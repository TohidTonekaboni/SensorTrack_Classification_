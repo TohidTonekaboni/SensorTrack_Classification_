{
 "cells": [
  {
   "cell_type": "markdown",
   "id": "a4af8f97",
   "metadata": {},
   "source": [
    "# Import Package\n",
    "#### In this section the packages are imported"
   ]
  },
  {
   "cell_type": "code",
   "execution_count": 1,
   "id": "93b63d0e",
   "metadata": {},
   "outputs": [],
   "source": [
    "import numpy as np\n",
    "import pandas as pd\n",
    "import mat4py\n",
    "import os\n",
    "from sklearn.model_selection import train_test_split\n",
    "import matplotlib.pyplot as plt\n",
    "import random\n",
    "from sklearn.utils import shuffle\n",
    "\n",
    "import tensorflow as tf\n",
    "from tensorflow.keras.layers import Input , Dense , Flatten ,Dropout ,BatchNormalization\n",
    "from tensorflow.keras.models import Sequential , Model, load_model\n",
    "from tensorflow.keras import regularizers\n",
    "from tensorflow.keras.optimizers import RMSprop\n",
    "from tensorflow.keras.losses import BinaryCrossentropy ,SparseCategoricalCrossentropy ,categorical_crossentropy\n",
    "from tensorflow.keras.layers import Conv1D , BatchNormalization,Activation,GlobalMaxPooling1D,Conv2D\n",
    "\n",
    "\n",
    "\n",
    "from sklearn.preprocessing import StandardScaler"
   ]
  },
  {
   "cell_type": "code",
   "execution_count": 2,
   "id": "0064e09b",
   "metadata": {},
   "outputs": [
    {
     "name": "stdout",
     "output_type": "stream",
     "text": [
      "Tensor Flow Version: 2.10.0\n",
      "Keras Version: 2.10.0\n",
      "GPU is available\n"
     ]
    }
   ],
   "source": [
    "print(f\"Tensor Flow Version: {tf.__version__}\")\n",
    "print(f\"Keras Version: {tf.keras.__version__}\")\n",
    "gpu = len(tf.config.list_physical_devices('GPU'))>0\n",
    "print(\"GPU is\", \"available\" if gpu else \"NOT AVAILABLE\")"
   ]
  },
  {
   "cell_type": "markdown",
   "id": "ac5a4b75",
   "metadata": {},
   "source": [
    "# Import matfile targets and convert it to dataframe "
   ]
  },
  {
   "cell_type": "code",
   "execution_count": 3,
   "id": "d522fef0",
   "metadata": {},
   "outputs": [],
   "source": [
    "logAddress = 'Matlab_Annotatted_Trajectories'  "
   ]
  },
  {
   "cell_type": "code",
   "execution_count": 4,
   "id": "b02d36a3",
   "metadata": {},
   "outputs": [
    {
     "name": "stdout",
     "output_type": "stream",
     "text": [
      "Matlab_Annotatted_Trajectories\\list1.mat\n",
      "Matlab_Annotatted_Trajectories\\list10.mat\n",
      "Matlab_Annotatted_Trajectories\\list11.mat\n",
      "Matlab_Annotatted_Trajectories\\list12.mat\n",
      "Matlab_Annotatted_Trajectories\\list13.mat\n",
      "Matlab_Annotatted_Trajectories\\list14.mat\n",
      "Matlab_Annotatted_Trajectories\\list15.mat\n",
      "Matlab_Annotatted_Trajectories\\list16.mat\n",
      "Matlab_Annotatted_Trajectories\\list17.mat\n",
      "Matlab_Annotatted_Trajectories\\list18.mat\n",
      "Matlab_Annotatted_Trajectories\\list19.mat\n",
      "Matlab_Annotatted_Trajectories\\list2.mat\n",
      "Matlab_Annotatted_Trajectories\\list20.mat\n",
      "Matlab_Annotatted_Trajectories\\list21.mat\n",
      "Matlab_Annotatted_Trajectories\\list22.mat\n",
      "Matlab_Annotatted_Trajectories\\list23.mat\n",
      "Matlab_Annotatted_Trajectories\\list24.mat\n",
      "Matlab_Annotatted_Trajectories\\list25.mat\n",
      "Matlab_Annotatted_Trajectories\\list26.mat\n",
      "Matlab_Annotatted_Trajectories\\list27.mat\n",
      "Matlab_Annotatted_Trajectories\\list28.mat\n",
      "Matlab_Annotatted_Trajectories\\list29.mat\n",
      "Matlab_Annotatted_Trajectories\\list3.mat\n",
      "Matlab_Annotatted_Trajectories\\list30.mat\n",
      "Matlab_Annotatted_Trajectories\\list31.mat\n",
      "Matlab_Annotatted_Trajectories\\list32.mat\n",
      "Matlab_Annotatted_Trajectories\\list33.mat\n",
      "Matlab_Annotatted_Trajectories\\list34.mat\n",
      "Matlab_Annotatted_Trajectories\\list4.mat\n",
      "Matlab_Annotatted_Trajectories\\list5.mat\n",
      "Matlab_Annotatted_Trajectories\\list6.mat\n",
      "Matlab_Annotatted_Trajectories\\list7.mat\n",
      "Matlab_Annotatted_Trajectories\\list8.mat\n",
      "Matlab_Annotatted_Trajectories\\list9.mat\n"
     ]
    }
   ],
   "source": [
    "data = pd.DataFrame()\n",
    "for dirname,_,filenames in os.walk(logAddress):\n",
    "    for filename in filenames : \n",
    "        address = os.path.join(logAddress,filename)\n",
    "        print(address)\n",
    "        tempdata = mat4py.loadmat(address)\n",
    "        tempdata = tempdata[\"Target\"]\n",
    "        \n",
    "        lats = tempdata[\"Latitude\"]\n",
    "        longs = tempdata[\"Longitude\"]\n",
    "        classes = tempdata[\"Label\"]\n",
    "        \n",
    "        df_temp = pd.DataFrame({\"Latitude\":lats,\"Longitude\":longs,\"Class\":classes})\n",
    "        \n",
    "        data = pd.concat([data,df_temp])"
   ]
  },
  {
   "cell_type": "code",
   "execution_count": 5,
   "id": "bb2465df",
   "metadata": {},
   "outputs": [
    {
     "name": "stdout",
     "output_type": "stream",
     "text": [
      "We have 2000 measurements\n"
     ]
    }
   ],
   "source": [
    "num_experiment , _ =  data.shape\n",
    "print(f\"We have {num_experiment} measurements\")"
   ]
  },
  {
   "cell_type": "code",
   "execution_count": 6,
   "id": "bd6d97ba",
   "metadata": {},
   "outputs": [
    {
     "data": {
      "text/plain": [
       "Index(['Latitude', 'Longitude', 'Class'], dtype='object')"
      ]
     },
     "execution_count": 6,
     "metadata": {},
     "output_type": "execute_result"
    }
   ],
   "source": [
    "data.columns"
   ]
  },
  {
   "cell_type": "code",
   "execution_count": 7,
   "id": "42845101",
   "metadata": {},
   "outputs": [
    {
     "data": {
      "text/html": [
       "<div>\n",
       "<style scoped>\n",
       "    .dataframe tbody tr th:only-of-type {\n",
       "        vertical-align: middle;\n",
       "    }\n",
       "\n",
       "    .dataframe tbody tr th {\n",
       "        vertical-align: top;\n",
       "    }\n",
       "\n",
       "    .dataframe thead th {\n",
       "        text-align: right;\n",
       "    }\n",
       "</style>\n",
       "<table border=\"1\" class=\"dataframe\">\n",
       "  <thead>\n",
       "    <tr style=\"text-align: right;\">\n",
       "      <th></th>\n",
       "      <th>Class</th>\n",
       "    </tr>\n",
       "  </thead>\n",
       "  <tbody>\n",
       "    <tr>\n",
       "      <th>count</th>\n",
       "      <td>2000.000000</td>\n",
       "    </tr>\n",
       "    <tr>\n",
       "      <th>mean</th>\n",
       "      <td>2.143500</td>\n",
       "    </tr>\n",
       "    <tr>\n",
       "      <th>std</th>\n",
       "      <td>1.090643</td>\n",
       "    </tr>\n",
       "    <tr>\n",
       "      <th>min</th>\n",
       "      <td>1.000000</td>\n",
       "    </tr>\n",
       "    <tr>\n",
       "      <th>25%</th>\n",
       "      <td>1.000000</td>\n",
       "    </tr>\n",
       "    <tr>\n",
       "      <th>50%</th>\n",
       "      <td>2.000000</td>\n",
       "    </tr>\n",
       "    <tr>\n",
       "      <th>75%</th>\n",
       "      <td>3.000000</td>\n",
       "    </tr>\n",
       "    <tr>\n",
       "      <th>max</th>\n",
       "      <td>8.000000</td>\n",
       "    </tr>\n",
       "  </tbody>\n",
       "</table>\n",
       "</div>"
      ],
      "text/plain": [
       "             Class\n",
       "count  2000.000000\n",
       "mean      2.143500\n",
       "std       1.090643\n",
       "min       1.000000\n",
       "25%       1.000000\n",
       "50%       2.000000\n",
       "75%       3.000000\n",
       "max       8.000000"
      ]
     },
     "execution_count": 7,
     "metadata": {},
     "output_type": "execute_result"
    }
   ],
   "source": [
    "data.describe()"
   ]
  },
  {
   "cell_type": "markdown",
   "id": "84352d26",
   "metadata": {},
   "source": [
    "# Data Visulization"
   ]
  },
  {
   "cell_type": "code",
   "execution_count": 8,
   "id": "5c142c07",
   "metadata": {},
   "outputs": [
    {
     "data": {
      "image/png": "[encoded data removed]",
      "text/plain": [
       "<Figure size 800x800 with 1 Axes>"
      ]
     },
     "metadata": {},
     "output_type": "display_data"
    },
    {
     "data": {
      "image/png": "[encoded data removed]",
      "text/plain": [
       "<Figure size 800x800 with 1 Axes>"
      ]
     },
     "metadata": {},
     "output_type": "display_data"
    },
    {
     "data": {
      "image/png": "[encoded data removed]",
      "text/plain": [
       "<Figure size 800x800 with 1 Axes>"
      ]
     },
     "metadata": {},
     "output_type": "display_data"
    },
    {
     "data": {
      "image/png": "[encoded data removed]",
      "text/plain": [
       "<Figure size 800x800 with 1 Axes>"
      ]
     },
     "metadata": {},
     "output_type": "display_data"
    },
    {
     "data": {
      "image/png": "[encoded data removed]",
      "text/plain": [
       "<Figure size 800x800 with 1 Axes>"
      ]
     },
     "metadata": {},
     "output_type": "display_data"
    },
    {
     "data": {
      "image/png": "[encoded data removed]",
      "text/plain": [
       "<Figure size 800x800 with 1 Axes>"
      ]
     },
     "metadata": {},
     "output_type": "display_data"
    }
   ],
   "source": [
    "targets = data.sample(6)\n",
    "\n",
    "fsize = (8,8)\n",
    "plt.figure(figsize=fsize)\n",
    "\n",
    "plt.subplot(2,3,1)\n",
    "plt.plot(targets.iloc[0][\"Longitude\"],targets.iloc[0][\"Latitude\"])\n",
    "plt.xlabel(\"Longitude\")\n",
    "plt.ylabel(\"Latitude\")\n",
    "classnum = targets.iloc[0][\"Class\"]\n",
    "plt.title(f\"class number is {classnum}\")\n",
    "plt.show()   \n",
    "    \n",
    "    \n",
    "plt.figure(figsize=fsize)    \n",
    "plt.subplot(2,3,2)\n",
    "plt.plot(targets.iloc[1][\"Longitude\"],targets.iloc[1][\"Latitude\"])\n",
    "plt.xlabel(\"Longitude\")\n",
    "plt.ylabel(\"Latitude\")\n",
    "classnum = targets.iloc[1][\"Class\"]\n",
    "plt.title(f\"class number is {classnum}\")\n",
    "plt.show()\n",
    "    \n",
    "plt.figure(figsize=fsize)    \n",
    "plt.subplot(2,3,3)\n",
    "plt.plot(targets.iloc[2][\"Longitude\"],targets.iloc[2][\"Latitude\"])\n",
    "plt.xlabel(\"Longitude\")\n",
    "plt.ylabel(\"Latitude\")\n",
    "classnum = targets.iloc[2][\"Class\"]\n",
    "plt.title(f\"class number is {classnum}\")\n",
    "plt.show()\n",
    "    \n",
    "plt.figure(figsize=fsize)   \n",
    "plt.subplot(2,3,4)\n",
    "plt.plot(targets.iloc[3][\"Longitude\"],targets.iloc[3][\"Latitude\"])\n",
    "plt.xlabel(\"Longitude\")\n",
    "plt.ylabel(\"Latitude\")\n",
    "classnum = targets.iloc[3][\"Class\"]\n",
    "plt.title(f\"class number is {classnum}\")\n",
    "plt.show()\n",
    "    \n",
    "      \n",
    "plt.figure(figsize=fsize)    \n",
    "plt.subplot(2,3,5)\n",
    "plt.plot(targets.iloc[4][\"Longitude\"],targets.iloc[4][\"Latitude\"])\n",
    "plt.xlabel(\"Longitude\")\n",
    "plt.ylabel(\"Latitude\")\n",
    "classnum = targets.iloc[4][\"Class\"]\n",
    "plt.title(f\"class number is {classnum}\")\n",
    "plt.show()\n",
    "    \n",
    "    \n",
    "plt.figure(figsize=fsize)    \n",
    "plt.subplot(2,3,6)\n",
    "plt.plot(targets.iloc[5][\"Longitude\"],targets.iloc[5][\"Latitude\"])\n",
    "plt.xlabel(\"Longitude\")\n",
    "plt.ylabel(\"Latitude\")\n",
    "classnum = targets.iloc[5][\"Class\"]\n",
    "plt.title(f\"class number is {classnum}\")\n",
    "plt.show()"
   ]
  },
  {
   "cell_type": "markdown",
   "id": "787551e7",
   "metadata": {},
   "source": [
    "# Separate train , test and validation data"
   ]
  },
  {
   "cell_type": "code",
   "execution_count": 9,
   "id": "a210d96e",
   "metadata": {},
   "outputs": [],
   "source": [
    "data = data[data[\"Class\"]<=4]"
   ]
  },
  {
   "cell_type": "markdown",
   "id": "02ec97f6",
   "metadata": {},
   "source": [
    "#### Shuffling data"
   ]
  },
  {
   "cell_type": "code",
   "execution_count": 10,
   "id": "190ff76d",
   "metadata": {},
   "outputs": [],
   "source": [
    "data_shuffled = shuffle(data)"
   ]
  },
  {
   "cell_type": "code",
   "execution_count": 11,
   "id": "af1c94d4",
   "metadata": {},
   "outputs": [
    {
     "data": {
      "text/html": [
       "<div>\n",
       "<style scoped>\n",
       "    .dataframe tbody tr th:only-of-type {\n",
       "        vertical-align: middle;\n",
       "    }\n",
       "\n",
       "    .dataframe tbody tr th {\n",
       "        vertical-align: top;\n",
       "    }\n",
       "\n",
       "    .dataframe thead th {\n",
       "        text-align: right;\n",
       "    }\n",
       "</style>\n",
       "<table border=\"1\" class=\"dataframe\">\n",
       "  <thead>\n",
       "    <tr style=\"text-align: right;\">\n",
       "      <th></th>\n",
       "      <th>Latitude</th>\n",
       "      <th>Longitude</th>\n",
       "      <th>Class</th>\n",
       "    </tr>\n",
       "  </thead>\n",
       "  <tbody>\n",
       "    <tr>\n",
       "      <th>85</th>\n",
       "      <td>[35.044585987261144, 35.04477220354299, 35.044...</td>\n",
       "      <td>[62.32484076433121, 62.32506304351115, 62.3252...</td>\n",
       "      <td>2</td>\n",
       "    </tr>\n",
       "    <tr>\n",
       "      <th>26</th>\n",
       "      <td>[35.40127388535032, 35.402656510499604, 35.404...</td>\n",
       "      <td>[54.554140127388536, 54.55596626811306, 54.557...</td>\n",
       "      <td>1</td>\n",
       "    </tr>\n",
       "    <tr>\n",
       "      <th>82</th>\n",
       "      <td>[22.713375796178344, 22.71290332497346, 22.712...</td>\n",
       "      <td>[55.4203821656051, 55.42198697476115, 55.42359...</td>\n",
       "      <td>1</td>\n",
       "    </tr>\n",
       "    <tr>\n",
       "      <th>71</th>\n",
       "      <td>[30.127388535031848, 30.127947406940024, 30.12...</td>\n",
       "      <td>[61.433121019108285, 61.43807938395701, 61.443...</td>\n",
       "      <td>2</td>\n",
       "    </tr>\n",
       "    <tr>\n",
       "      <th>93</th>\n",
       "      <td>[33.28662420382165, 33.286482343998806, 33.286...</td>\n",
       "      <td>[56.46496815286625, 56.465227859723335, 56.465...</td>\n",
       "      <td>1</td>\n",
       "    </tr>\n",
       "    <tr>\n",
       "      <th>62</th>\n",
       "      <td>[35.12101910828025, 35.116310984872605, 35.111...</td>\n",
       "      <td>[63.98089171974523, 63.98189778493233, 63.9828...</td>\n",
       "      <td>1</td>\n",
       "    </tr>\n",
       "    <tr>\n",
       "      <th>14</th>\n",
       "      <td>[29.363057324840764, 29.362136420587294, 29.36...</td>\n",
       "      <td>[51.92993630573248, 51.928216466203445, 51.926...</td>\n",
       "      <td>2</td>\n",
       "    </tr>\n",
       "    <tr>\n",
       "      <th>59</th>\n",
       "      <td>[22.611464968152866, 22.61046646981157, 22.609...</td>\n",
       "      <td>[60.79617834394905, 60.7971082896895, 60.79804...</td>\n",
       "      <td>2</td>\n",
       "    </tr>\n",
       "    <tr>\n",
       "      <th>29</th>\n",
       "      <td>[31.88535031847134, 31.885717036318585, 31.886...</td>\n",
       "      <td>[45.738853503184714, 45.740021759485124, 45.74...</td>\n",
       "      <td>3</td>\n",
       "    </tr>\n",
       "    <tr>\n",
       "      <th>5</th>\n",
       "      <td>[29.388535031847134, 29.391944723540952, 29.39...</td>\n",
       "      <td>[45.9171974522293, 45.91617512872626, 45.91516...</td>\n",
       "      <td>3</td>\n",
       "    </tr>\n",
       "  </tbody>\n",
       "</table>\n",
       "</div>"
      ],
      "text/plain": [
       "                                             Latitude  \\\n",
       "85  [35.044585987261144, 35.04477220354299, 35.044...   \n",
       "26  [35.40127388535032, 35.402656510499604, 35.404...   \n",
       "82  [22.713375796178344, 22.71290332497346, 22.712...   \n",
       "71  [30.127388535031848, 30.127947406940024, 30.12...   \n",
       "93  [33.28662420382165, 33.286482343998806, 33.286...   \n",
       "62  [35.12101910828025, 35.116310984872605, 35.111...   \n",
       "14  [29.363057324840764, 29.362136420587294, 29.36...   \n",
       "59  [22.611464968152866, 22.61046646981157, 22.609...   \n",
       "29  [31.88535031847134, 31.885717036318585, 31.886...   \n",
       "5   [29.388535031847134, 29.391944723540952, 29.39...   \n",
       "\n",
       "                                            Longitude  Class  \n",
       "85  [62.32484076433121, 62.32506304351115, 62.3252...      2  \n",
       "26  [54.554140127388536, 54.55596626811306, 54.557...      1  \n",
       "82  [55.4203821656051, 55.42198697476115, 55.42359...      1  \n",
       "71  [61.433121019108285, 61.43807938395701, 61.443...      2  \n",
       "93  [56.46496815286625, 56.465227859723335, 56.465...      1  \n",
       "62  [63.98089171974523, 63.98189778493233, 63.9828...      1  \n",
       "14  [51.92993630573248, 51.928216466203445, 51.926...      2  \n",
       "59  [60.79617834394905, 60.7971082896895, 60.79804...      2  \n",
       "29  [45.738853503184714, 45.740021759485124, 45.74...      3  \n",
       "5   [45.9171974522293, 45.91617512872626, 45.91516...      3  "
      ]
     },
     "execution_count": 11,
     "metadata": {},
     "output_type": "execute_result"
    }
   ],
   "source": [
    "data_shuffled[0:10]"
   ]
  },
  {
   "cell_type": "code",
   "execution_count": 12,
   "id": "b5b3f434",
   "metadata": {},
   "outputs": [
    {
     "data": {
      "text/html": [
       "<div>\n",
       "<style scoped>\n",
       "    .dataframe tbody tr th:only-of-type {\n",
       "        vertical-align: middle;\n",
       "    }\n",
       "\n",
       "    .dataframe tbody tr th {\n",
       "        vertical-align: top;\n",
       "    }\n",
       "\n",
       "    .dataframe thead th {\n",
       "        text-align: right;\n",
       "    }\n",
       "</style>\n",
       "<table border=\"1\" class=\"dataframe\">\n",
       "  <thead>\n",
       "    <tr style=\"text-align: right;\">\n",
       "      <th></th>\n",
       "      <th>Latitude</th>\n",
       "      <th>Longitude</th>\n",
       "      <th>Class</th>\n",
       "    </tr>\n",
       "  </thead>\n",
       "  <tbody>\n",
       "    <tr>\n",
       "      <th>0</th>\n",
       "      <td>[27.29936305732484, 27.299625466018348, 27.299...</td>\n",
       "      <td>[51.29299363057325, 51.294145988310866, 51.295...</td>\n",
       "      <td>1</td>\n",
       "    </tr>\n",
       "    <tr>\n",
       "      <th>1</th>\n",
       "      <td>[31.121019108280255, 31.1220195262771, 31.1230...</td>\n",
       "      <td>[52.541401273885356, 52.5417994175924, 52.5422...</td>\n",
       "      <td>1</td>\n",
       "    </tr>\n",
       "    <tr>\n",
       "      <th>2</th>\n",
       "      <td>[29.84713375796178, 29.847911241591305, 29.848...</td>\n",
       "      <td>[53.254777070063696, 53.25621246983042, 53.257...</td>\n",
       "      <td>1</td>\n",
       "    </tr>\n",
       "    <tr>\n",
       "      <th>3</th>\n",
       "      <td>[35.095541401273884, 35.09561291157736, 35.095...</td>\n",
       "      <td>[54.171974522293, 54.17071448392492, 54.169455...</td>\n",
       "      <td>2</td>\n",
       "    </tr>\n",
       "    <tr>\n",
       "      <th>4</th>\n",
       "      <td>[32.445859872611464, 32.44558715629, 32.445317...</td>\n",
       "      <td>[50.57961783439491, 50.582320421062725, 50.585...</td>\n",
       "      <td>2</td>\n",
       "    </tr>\n",
       "    <tr>\n",
       "      <th>5</th>\n",
       "      <td>[27.88535031847134, 27.885829292109317, 27.886...</td>\n",
       "      <td>[53.35668789808918, 53.35760689685142, 53.3585...</td>\n",
       "      <td>2</td>\n",
       "    </tr>\n",
       "    <tr>\n",
       "      <th>6</th>\n",
       "      <td>[29.59235668789809, 29.592707074334776, 29.593...</td>\n",
       "      <td>[50.37579617834395, 50.37707151429559, 50.3783...</td>\n",
       "      <td>1</td>\n",
       "    </tr>\n",
       "    <tr>\n",
       "      <th>7</th>\n",
       "      <td>[33.210191082802545, 33.2101433298073, 33.2100...</td>\n",
       "      <td>[53.10191082802548, 53.10357731267334, 53.1052...</td>\n",
       "      <td>3</td>\n",
       "    </tr>\n",
       "    <tr>\n",
       "      <th>8</th>\n",
       "      <td>[33.87261146496815, 33.872649807253794, 33.872...</td>\n",
       "      <td>[52.031847133757964, 52.03317032694554, 52.034...</td>\n",
       "      <td>3</td>\n",
       "    </tr>\n",
       "    <tr>\n",
       "      <th>9</th>\n",
       "      <td>[32.802547770700635, 32.80239621005337, 32.802...</td>\n",
       "      <td>[54.80891719745223, 54.80948753500956, 54.8100...</td>\n",
       "      <td>2</td>\n",
       "    </tr>\n",
       "  </tbody>\n",
       "</table>\n",
       "</div>"
      ],
      "text/plain": [
       "                                            Latitude  \\\n",
       "0  [27.29936305732484, 27.299625466018348, 27.299...   \n",
       "1  [31.121019108280255, 31.1220195262771, 31.1230...   \n",
       "2  [29.84713375796178, 29.847911241591305, 29.848...   \n",
       "3  [35.095541401273884, 35.09561291157736, 35.095...   \n",
       "4  [32.445859872611464, 32.44558715629, 32.445317...   \n",
       "5  [27.88535031847134, 27.885829292109317, 27.886...   \n",
       "6  [29.59235668789809, 29.592707074334776, 29.593...   \n",
       "7  [33.210191082802545, 33.2101433298073, 33.2100...   \n",
       "8  [33.87261146496815, 33.872649807253794, 33.872...   \n",
       "9  [32.802547770700635, 32.80239621005337, 32.802...   \n",
       "\n",
       "                                           Longitude  Class  \n",
       "0  [51.29299363057325, 51.294145988310866, 51.295...      1  \n",
       "1  [52.541401273885356, 52.5417994175924, 52.5422...      1  \n",
       "2  [53.254777070063696, 53.25621246983042, 53.257...      1  \n",
       "3  [54.171974522293, 54.17071448392492, 54.169455...      2  \n",
       "4  [50.57961783439491, 50.582320421062725, 50.585...      2  \n",
       "5  [53.35668789808918, 53.35760689685142, 53.3585...      2  \n",
       "6  [50.37579617834395, 50.37707151429559, 50.3783...      1  \n",
       "7  [53.10191082802548, 53.10357731267334, 53.1052...      3  \n",
       "8  [52.031847133757964, 52.03317032694554, 52.034...      3  \n",
       "9  [54.80891719745223, 54.80948753500956, 54.8100...      2  "
      ]
     },
     "execution_count": 12,
     "metadata": {},
     "output_type": "execute_result"
    }
   ],
   "source": [
    "data[0:10]"
   ]
  },
  {
   "cell_type": "code",
   "execution_count": 13,
   "id": "0df7ca7b",
   "metadata": {},
   "outputs": [
    {
     "data": {
      "text/plain": [
       "1    704\n",
       "2    656\n",
       "4    344\n",
       "3    294\n",
       "Name: Class, dtype: int64"
      ]
     },
     "execution_count": 13,
     "metadata": {},
     "output_type": "execute_result"
    }
   ],
   "source": [
    "data_shuffled[\"Class\"].value_counts()"
   ]
  },
  {
   "cell_type": "code",
   "execution_count": 14,
   "id": "fabc2b2b",
   "metadata": {},
   "outputs": [],
   "source": [
    "X = data_shuffled[[\"Latitude\",\"Longitude\"]]\n",
    "y = data_shuffled[\"Class\"]-1"
   ]
  },
  {
   "cell_type": "code",
   "execution_count": 15,
   "id": "846ac046",
   "metadata": {},
   "outputs": [],
   "source": [
    "X_train,X_test,y_train,y_test = train_test_split(X,y,test_size=0.2)\n",
    "X_train,X_valid,y_train,y_valid = train_test_split(X_train,y_train,test_size=0.25,random_state=1)"
   ]
  },
  {
   "cell_type": "code",
   "execution_count": 16,
   "id": "29100cb5",
   "metadata": {},
   "outputs": [],
   "source": [
    "X_train = X_train.values\n",
    "X_test = X_test.values\n",
    "y_train = y_train.values\n",
    "y_test = y_test.values\n",
    "\n",
    "X_valid = X_valid.values\n",
    "y_valid = y_valid.values"
   ]
  },
  {
   "cell_type": "code",
   "execution_count": 17,
   "id": "8bc0117d",
   "metadata": {},
   "outputs": [
    {
     "name": "stdout",
     "output_type": "stream",
     "text": [
      "Number of training samples is = 1198\n",
      "Number of test samples is = 400\n",
      "Number of validation samples is = 400\n"
     ]
    }
   ],
   "source": [
    "print(f\"Number of training samples is = {X_train.shape[0]}\")\n",
    "print(f\"Number of test samples is = {X_test.shape[0]}\")\n",
    "print(f\"Number of validation samples is = {X_valid.shape[0]}\")"
   ]
  },
  {
   "cell_type": "markdown",
   "id": "ce1d7de5",
   "metadata": {},
   "source": [
    "# Padding "
   ]
  },
  {
   "cell_type": "code",
   "execution_count": 18,
   "id": "82a48eb2",
   "metadata": {},
   "outputs": [],
   "source": [
    "def convert_array_and_pad(input_array,max_num):\n",
    "    m = input_array.shape[0]\n",
    "    C = np.empty((m,max_num,2))\n",
    "    for i in range(m):\n",
    "        temp1 = input_array[i][0]\n",
    "        temp2 = input_array[i][1]\n",
    "        \n",
    "        A =  np.pad(temp1,(0,max_num-len(temp1)),'constant',constant_values=temp1[-1])\n",
    "        B =  np.pad(temp2,(0,max_num-len(temp1)),'constant',constant_values=temp2[-1])\n",
    "        \n",
    "        arr = np.transpose(np.asarray([A,B]))\n",
    "        \n",
    "        C[i,:] = arr\n",
    "        \n",
    "    return C"
   ]
  },
  {
   "cell_type": "code",
   "execution_count": 19,
   "id": "ca2b13a9",
   "metadata": {},
   "outputs": [],
   "source": [
    "max_num = 7601\n",
    "X_train_pad = convert_array_and_pad(X_train,max_num)\n",
    "X_test_pad = convert_array_and_pad(X_test,max_num)\n",
    "X_valid_pad = convert_array_and_pad(X_valid,max_num)"
   ]
  },
  {
   "cell_type": "code",
   "execution_count": 20,
   "id": "748a4da2",
   "metadata": {},
   "outputs": [],
   "source": [
    "X_train_pad = X_train_pad.astype(np.float32)\n",
    "y_train = y_train.astype(np.float32)\n",
    "\n",
    "X_test_pad = X_test_pad.astype(np.float32)\n",
    "y_test = y_test.astype(np.float32)\n",
    "\n",
    "X_valid_pad = X_valid_pad.astype(np.float32)\n",
    "y_valid = y_valid.astype(np.float32)"
   ]
  },
  {
   "cell_type": "markdown",
   "id": "a9680d43",
   "metadata": {},
   "source": [
    "# Normalizing Data"
   ]
  },
  {
   "cell_type": "code",
   "execution_count": 21,
   "id": "262983b5",
   "metadata": {},
   "outputs": [],
   "source": [
    "def normalize_data(input_data):\n",
    "    ss = StandardScaler()\n",
    "    m = input_data.shape[0]\n",
    "    C = np.empty((m,max_num,2))\n",
    "    for i in range(m):\n",
    "        arr = ss.fit_transform(input_data[i])\n",
    "        C[i,:] = arr\n",
    "    return C"
   ]
  },
  {
   "cell_type": "code",
   "execution_count": 22,
   "id": "cfb4c2c5",
   "metadata": {},
   "outputs": [],
   "source": [
    "X_train_normalize = normalize_data(X_train_pad)\n",
    "X_test_normalize = normalize_data(X_test_pad)\n",
    "X_valid_normalize = normalize_data(X_valid_pad)"
   ]
  },
  {
   "cell_type": "markdown",
   "id": "5ad36c3f",
   "metadata": {},
   "source": [
    "# Define a Model"
   ]
  },
  {
   "cell_type": "code",
   "execution_count": 23,
   "id": "e9d06e49",
   "metadata": {},
   "outputs": [],
   "source": [
    "input_shape = (X_train_pad.shape[1] , X_train_pad.shape[2])"
   ]
  },
  {
   "cell_type": "code",
   "execution_count": 24,
   "id": "d2feb4fc",
   "metadata": {},
   "outputs": [
    {
     "name": "stdout",
     "output_type": "stream",
     "text": [
      "Input shape for keras model is (7601, 2)\n"
     ]
    }
   ],
   "source": [
    "print(f\"Input shape for keras model is {input_shape}\")"
   ]
  },
  {
   "cell_type": "code",
   "execution_count": 25,
   "id": "5b471daf",
   "metadata": {},
   "outputs": [],
   "source": [
    "input_layer = Input(shape=input_shape)\n",
    "x = Dense(512,activation='relu',kernel_initializer=tf.keras.initializers.he_normal(),\n",
    "          kernel_regularizer=regularizers.l1_l2(l1=1e-2,l2=1e-1))(input_layer)\n",
    "\n",
    "x = BatchNormalization()(x)\n",
    "x = Dropout(0.25)(x)\n",
    "\n",
    "x = Dense(256,activation='relu')(x)\n",
    "x = BatchNormalization()(x)\n",
    "x = Dropout(0.25)(x)\n",
    "\n",
    "\n",
    "x = Dense(128,activation='relu')(x)\n",
    "x = BatchNormalization()(x)\n",
    "x = Dropout(0.25)(x)\n",
    "\n",
    "\n",
    "x = Dense(64,activation='relu')(x)\n",
    "x = BatchNormalization()(x)\n",
    "x = Dropout(0.25)(x)\n",
    "\n",
    "\n",
    "x = Flatten()(x)\n",
    "output = Dense(4,activation='softmax')(x)\n",
    "\n",
    "model = Model(input_layer,output)"
   ]
  },
  {
   "cell_type": "code",
   "execution_count": 26,
   "id": "e5b69827",
   "metadata": {},
   "outputs": [
    {
     "name": "stdout",
     "output_type": "stream",
     "text": [
      "Model: \"model\"\n",
      "_________________________________________________________________\n",
      " Layer (type)                Output Shape              Param #   \n",
      "=================================================================\n",
      " input_1 (InputLayer)        [(None, 7601, 2)]         0         \n",
      "                                                                 \n",
      " dense (Dense)               (None, 7601, 512)         1536      \n",
      "                                                                 \n",
      " batch_normalization (BatchN  (None, 7601, 512)        2048      \n",
      " ormalization)                                                   \n",
      "                                                                 \n",
      " dropout (Dropout)           (None, 7601, 512)         0         \n",
      "                                                                 \n",
      " dense_1 (Dense)             (None, 7601, 256)         131328    \n",
      "                                                                 \n",
      " batch_normalization_1 (Batc  (None, 7601, 256)        1024      \n",
      " hNormalization)                                                 \n",
      "                                                                 \n",
      " dropout_1 (Dropout)         (None, 7601, 256)         0         \n",
      "                                                                 \n",
      " dense_2 (Dense)             (None, 7601, 128)         32896     \n",
      "                                                                 \n",
      " batch_normalization_2 (Batc  (None, 7601, 128)        512       \n",
      " hNormalization)                                                 \n",
      "                                                                 \n",
      " dropout_2 (Dropout)         (None, 7601, 128)         0         \n",
      "                                                                 \n",
      " dense_3 (Dense)             (None, 7601, 64)          8256      \n",
      "                                                                 \n",
      " batch_normalization_3 (Batc  (None, 7601, 64)         256       \n",
      " hNormalization)                                                 \n",
      "                                                                 \n",
      " dropout_3 (Dropout)         (None, 7601, 64)          0         \n",
      "                                                                 \n",
      " flatten (Flatten)           (None, 486464)            0         \n",
      "                                                                 \n",
      " dense_4 (Dense)             (None, 4)                 1945860   \n",
      "                                                                 \n",
      "=================================================================\n",
      "Total params: 2,123,716\n",
      "Trainable params: 2,121,796\n",
      "Non-trainable params: 1,920\n",
      "_________________________________________________________________\n"
     ]
    }
   ],
   "source": [
    "model.summary()"
   ]
  },
  {
   "cell_type": "code",
   "execution_count": null,
   "id": "11d2710b",
   "metadata": {},
   "outputs": [],
   "source": [
    "model.compile(optimizer=RMSprop(1e-3), loss='sparse_categorical_crossentropy', metrics=['accuracy'])"
   ]
  },
  {
   "cell_type": "markdown",
   "id": "8b8d43cb",
   "metadata": {},
   "source": [
    "# Defining Callbacks"
   ]
  },
  {
   "cell_type": "code",
   "execution_count": null,
   "id": "50cfa88e",
   "metadata": {},
   "outputs": [],
   "source": [
    "class acc_callback(tf.keras.callbacks.Callback):\n",
    "    def on_epoch_end(self,epoch,logs={}):\n",
    "        if (logs.get('accuracy') is not None and logs.get('accuracy')>0.95) and (logs.get('val_accuracy') is not None and logs.get('val_accuracy')>0.90):\n",
    "            print(\"\\nReached 95% accuracy and 90% validation accuracy so cancelling training!\")\n",
    "            \n",
    "            self.model.stop_training = True"
   ]
  },
  {
   "cell_type": "code",
   "execution_count": null,
   "id": "f83b34f5",
   "metadata": {},
   "outputs": [],
   "source": [
    "callback = acc_callback()"
   ]
  },
  {
   "cell_type": "markdown",
   "id": "956b8af5",
   "metadata": {},
   "source": [
    "# Training the Neural Nework"
   ]
  },
  {
   "cell_type": "code",
   "execution_count": null,
   "id": "39bbf27a",
   "metadata": {},
   "outputs": [],
   "source": [
    "history = model.fit(X_train_normalize, y_train,batch_size=64,verbose=True, epochs=100, \n",
    "                    validation_data=(X_valid_normalize, y_valid),callbacks =[callback] )"
   ]
  },
  {
   "cell_type": "markdown",
   "id": "a5ed0c54",
   "metadata": {},
   "source": [
    "# Plot Training Results"
   ]
  },
  {
   "cell_type": "code",
   "execution_count": null,
   "id": "bc28ea2c",
   "metadata": {},
   "outputs": [],
   "source": [
    "try:\n",
    "    plt.plot(history.history['accuracy'])\n",
    "    plt.plot(history.history['val_accuracy'])\n",
    "except KeyError:\n",
    "    plt.plot(history.history['acc'])\n",
    "    plt.plot(history.history['val_acc'])\n",
    "plt.title('Accuracy vs. epochs')\n",
    "plt.ylabel('Accuracy')\n",
    "plt.xlabel('Epoch')\n",
    "plt.legend(['Training', 'Validation'], loc='lower right')\n",
    "plt.show() "
   ]
  },
  {
   "cell_type": "code",
   "execution_count": null,
   "id": "650c4066",
   "metadata": {},
   "outputs": [],
   "source": [
    "plt.plot(history.history['loss'])\n",
    "plt.plot(history.history['val_loss'])\n",
    "plt.title('Model Loss vs. epochs')\n",
    "plt.ylabel('Accuracy')\n",
    "plt.xlabel('Epoch')\n",
    "plt.legend(['Training', 'Validation'], loc='lower right')"
   ]
  },
  {
   "cell_type": "markdown",
   "id": "ef35090a",
   "metadata": {},
   "source": [
    "# Save Model"
   ]
  },
  {
   "cell_type": "code",
   "execution_count": null,
   "id": "349f8b52",
   "metadata": {},
   "outputs": [],
   "source": [
    "# model.save('CheckPointsFolder/myModel.h5')"
   ]
  },
  {
   "cell_type": "markdown",
   "id": "e54f0196",
   "metadata": {},
   "source": [
    "# Load Model"
   ]
  },
  {
   "cell_type": "code",
   "execution_count": 27,
   "id": "39c5d589",
   "metadata": {},
   "outputs": [],
   "source": [
    "from tensorflow.keras.models import load_model\n",
    "model = load_model('CheckPointsFolder/myModel.h5')"
   ]
  },
  {
   "cell_type": "code",
   "execution_count": 28,
   "id": "24396e12",
   "metadata": {},
   "outputs": [
    {
     "name": "stdout",
     "output_type": "stream",
     "text": [
      "Model: \"model\"\n",
      "_________________________________________________________________\n",
      " Layer (type)                Output Shape              Param #   \n",
      "=================================================================\n",
      " input_1 (InputLayer)        [(None, 7601, 2)]         0         \n",
      "                                                                 \n",
      " dense (Dense)               (None, 7601, 512)         1536      \n",
      "                                                                 \n",
      " batch_normalization (BatchN  (None, 7601, 512)        2048      \n",
      " ormalization)                                                   \n",
      "                                                                 \n",
      " dropout (Dropout)           (None, 7601, 512)         0         \n",
      "                                                                 \n",
      " dense_1 (Dense)             (None, 7601, 256)         131328    \n",
      "                                                                 \n",
      " batch_normalization_1 (Batc  (None, 7601, 256)        1024      \n",
      " hNormalization)                                                 \n",
      "                                                                 \n",
      " dropout_1 (Dropout)         (None, 7601, 256)         0         \n",
      "                                                                 \n",
      " dense_2 (Dense)             (None, 7601, 128)         32896     \n",
      "                                                                 \n",
      " batch_normalization_2 (Batc  (None, 7601, 128)        512       \n",
      " hNormalization)                                                 \n",
      "                                                                 \n",
      " dropout_2 (Dropout)         (None, 7601, 128)         0         \n",
      "                                                                 \n",
      " dense_3 (Dense)             (None, 7601, 64)          8256      \n",
      "                                                                 \n",
      " batch_normalization_3 (Batc  (None, 7601, 64)         256       \n",
      " hNormalization)                                                 \n",
      "                                                                 \n",
      " dropout_3 (Dropout)         (None, 7601, 64)          0         \n",
      "                                                                 \n",
      " flatten (Flatten)           (None, 486464)            0         \n",
      "                                                                 \n",
      " dense_4 (Dense)             (None, 4)                 1945860   \n",
      "                                                                 \n",
      "=================================================================\n",
      "Total params: 2,123,716\n",
      "Trainable params: 2,121,796\n",
      "Non-trainable params: 1,920\n",
      "_________________________________________________________________\n"
     ]
    }
   ],
   "source": [
    "model.summary()"
   ]
  },
  {
   "cell_type": "markdown",
   "id": "585aa073",
   "metadata": {},
   "source": [
    "# Test Accuracy"
   ]
  },
  {
   "cell_type": "code",
   "execution_count": 29,
   "id": "36131360",
   "metadata": {},
   "outputs": [],
   "source": [
    "def get_test_accuracy(model, x_test, y_test):\n",
    "    test_loss, test_acc = model.evaluate(x=x_test, y=y_test, verbose=0)\n",
    "    print('accuracy: {acc:0.3f}'.format(acc=test_acc))"
   ]
  },
  {
   "cell_type": "code",
   "execution_count": 30,
   "id": "dfaff230",
   "metadata": {},
   "outputs": [
    {
     "name": "stdout",
     "output_type": "stream",
     "text": [
      "accuracy: 0.960\n"
     ]
    }
   ],
   "source": [
    "get_test_accuracy(model,X_test_normalize,y_test)"
   ]
  },
  {
   "cell_type": "markdown",
   "id": "05512b32",
   "metadata": {},
   "source": [
    "# Plot Test Results"
   ]
  },
  {
   "cell_type": "markdown",
   "id": "a655c5fe",
   "metadata": {},
   "source": [
    "##### Plot the Random X test images, their predicted label, and the true label Color correct predictions in blue, incorrect predictions in red"
   ]
  },
  {
   "cell_type": "code",
   "execution_count": 31,
   "id": "182b2559",
   "metadata": {},
   "outputs": [
    {
     "name": "stdout",
     "output_type": "stream",
     "text": [
      "13/13 [==============================] - 1s 28ms/step\n"
     ]
    }
   ],
   "source": [
    "predictions = model.predict(X_test_normalize)"
   ]
  },
  {
   "cell_type": "code",
   "execution_count": 32,
   "id": "5db5bfbb",
   "metadata": {},
   "outputs": [],
   "source": [
    "def compare_results(num_rows,num_cols,predictions,y_test,X_test):\n",
    "    n_image = num_rows*num_cols\n",
    "    plt.figure(figsize=(2*2*num_cols, 2*num_rows))\n",
    "    for i in range(n_image):\n",
    "        randint = np.random.choice(X_test.shape[0], 1)[0]\n",
    "        true_label = y_test[randint]\n",
    "        # Plot Part 1\n",
    "        plt.subplot(num_rows, 2*num_cols, 2*i+1)\n",
    "        plt.grid(False)\n",
    "        plt.xticks([])\n",
    "        plt.yticks([])\n",
    "        plt.plot(X_test[randint][1],X_test[randint][0],color='black')\n",
    "        predicted_label = np.argmax(predictions[randint])\n",
    "        if predicted_label == true_label :\n",
    "            color = 'blue'\n",
    "        else:\n",
    "            color = 'red'\n",
    "        plt.xlabel(f\"Predict:{predicted_label}| {100*np.max(predictions[randint]):2.0f}% |(True: {true_label})\".format(color=color))\n",
    "        \n",
    "        # Plot Part 2\n",
    "        plt.subplot(num_rows, 2*num_cols, 2*i+2)\n",
    "        plt.grid(False)\n",
    "        plt.xticks([])\n",
    "        plt.yticks([])\n",
    "        thisplot = plt.bar(range(4),predictions[randint],color=\"#777777\")\n",
    "        plt.ylim([0, 1])\n",
    "        thisplot[predicted_label].set_color('red')\n",
    "        thisplot[int(true_label)].set_color('blue')"
   ]
  },
  {
   "cell_type": "code",
   "execution_count": 33,
   "id": "9d78520f",
   "metadata": {},
   "outputs": [
    {
     "data": {
      "image/png": "[encoded data removed]",
      "text/plain": [
       "<Figure size 1600x400 with 16 Axes>"
      ]
     },
     "metadata": {},
     "output_type": "display_data"
    }
   ],
   "source": [
    "compare_results(2,4,predictions,y_test,X_test)"
   ]
  },
  {
   "cell_type": "code",
   "execution_count": null,
   "id": "3df30006",
   "metadata": {},
   "outputs": [],
   "source": []
  }
 ],
 "metadata": {
  "kernelspec": {
   "display_name": "Python 3 (ipykernel)",
   "language": "python",
   "name": "python3"
  },
  "language_info": {
   "codemirror_mode": {
    "name": "ipython",
    "version": 3
   },
   "file_extension": ".py",
   "mimetype": "text/x-python",
   "name": "python",
   "nbconvert_exporter": "python",
   "pygments_lexer": "ipython3",
   "version": "3.9.12"
  }
 },
 "nbformat": 4,
 "nbformat_minor": 5
}
